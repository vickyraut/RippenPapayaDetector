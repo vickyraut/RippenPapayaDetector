{
  "cells": [
    {
      "cell_type": "code",
      "execution_count": null,
      "metadata": {
        "colab": {
          "base_uri": "https://localhost:8080/"
        },
        "id": "4MGJpZSFcUCb",
        "outputId": "cc8468e7-3d4f-4372-c94f-d6b37a72ba9a"
      },
      "outputs": [
        {
          "output_type": "stream",
          "name": "stdout",
          "text": [
            "Drive already mounted at /content/gdrive/; to attempt to forcibly remount, call drive.mount(\"/content/gdrive/\", force_remount=True).\n",
            ".  ..  calibration_image_sample_data_20x128x128x3_float32.npy  .config\tgdrive\truns  sample_data\n"
          ]
        }
      ],
      "source": [
        "from google.colab import drive\n",
        "drive.mount('/content/gdrive/')\n",
        "!ls -a"
      ]
    },
    {
      "cell_type": "code",
      "execution_count": null,
      "metadata": {
        "colab": {
          "base_uri": "https://localhost:8080/"
        },
        "id": "hlYyHsM6hnLZ",
        "outputId": "27e6b804-a180-4e9c-bf25-7bdc5a49bba4"
      },
      "outputs": [
        {
          "output_type": "stream",
          "name": "stdout",
          "text": [
            "Requirement already satisfied: ultralytics in /usr/local/lib/python3.10/dist-packages (8.2.2)\n",
            "Requirement already satisfied: matplotlib>=3.3.0 in /usr/local/lib/python3.10/dist-packages (from ultralytics) (3.7.1)\n",
            "Requirement already satisfied: opencv-python>=4.6.0 in /usr/local/lib/python3.10/dist-packages (from ultralytics) (4.8.0.76)\n",
            "Requirement already satisfied: pillow>=7.1.2 in /usr/local/lib/python3.10/dist-packages (from ultralytics) (9.4.0)\n",
            "Requirement already satisfied: pyyaml>=5.3.1 in /usr/local/lib/python3.10/dist-packages (from ultralytics) (6.0.1)\n",
            "Requirement already satisfied: requests>=2.23.0 in /usr/local/lib/python3.10/dist-packages (from ultralytics) (2.31.0)\n",
            "Requirement already satisfied: scipy>=1.4.1 in /usr/local/lib/python3.10/dist-packages (from ultralytics) (1.11.4)\n",
            "Requirement already satisfied: torch>=1.8.0 in /usr/local/lib/python3.10/dist-packages (from ultralytics) (2.2.1+cu121)\n",
            "Requirement already satisfied: torchvision>=0.9.0 in /usr/local/lib/python3.10/dist-packages (from ultralytics) (0.17.1+cu121)\n",
            "Requirement already satisfied: tqdm>=4.64.0 in /usr/local/lib/python3.10/dist-packages (from ultralytics) (4.66.2)\n",
            "Requirement already satisfied: psutil in /usr/local/lib/python3.10/dist-packages (from ultralytics) (5.9.5)\n",
            "Requirement already satisfied: py-cpuinfo in /usr/local/lib/python3.10/dist-packages (from ultralytics) (9.0.0)\n",
            "Requirement already satisfied: thop>=0.1.1 in /usr/local/lib/python3.10/dist-packages (from ultralytics) (0.1.1.post2209072238)\n",
            "Requirement already satisfied: pandas>=1.1.4 in /usr/local/lib/python3.10/dist-packages (from ultralytics) (2.0.3)\n",
            "Requirement already satisfied: seaborn>=0.11.0 in /usr/local/lib/python3.10/dist-packages (from ultralytics) (0.13.1)\n",
            "Requirement already satisfied: contourpy>=1.0.1 in /usr/local/lib/python3.10/dist-packages (from matplotlib>=3.3.0->ultralytics) (1.2.1)\n",
            "Requirement already satisfied: cycler>=0.10 in /usr/local/lib/python3.10/dist-packages (from matplotlib>=3.3.0->ultralytics) (0.12.1)\n",
            "Requirement already satisfied: fonttools>=4.22.0 in /usr/local/lib/python3.10/dist-packages (from matplotlib>=3.3.0->ultralytics) (4.51.0)\n",
            "Requirement already satisfied: kiwisolver>=1.0.1 in /usr/local/lib/python3.10/dist-packages (from matplotlib>=3.3.0->ultralytics) (1.4.5)\n",
            "Requirement already satisfied: numpy>=1.20 in /usr/local/lib/python3.10/dist-packages (from matplotlib>=3.3.0->ultralytics) (1.24.3)\n",
            "Requirement already satisfied: packaging>=20.0 in /usr/local/lib/python3.10/dist-packages (from matplotlib>=3.3.0->ultralytics) (24.0)\n",
            "Requirement already satisfied: pyparsing>=2.3.1 in /usr/local/lib/python3.10/dist-packages (from matplotlib>=3.3.0->ultralytics) (3.1.2)\n",
            "Requirement already satisfied: python-dateutil>=2.7 in /usr/local/lib/python3.10/dist-packages (from matplotlib>=3.3.0->ultralytics) (2.8.2)\n",
            "Requirement already satisfied: pytz>=2020.1 in /usr/local/lib/python3.10/dist-packages (from pandas>=1.1.4->ultralytics) (2023.4)\n",
            "Requirement already satisfied: tzdata>=2022.1 in /usr/local/lib/python3.10/dist-packages (from pandas>=1.1.4->ultralytics) (2024.1)\n",
            "Requirement already satisfied: charset-normalizer<4,>=2 in /usr/local/lib/python3.10/dist-packages (from requests>=2.23.0->ultralytics) (3.3.2)\n",
            "Requirement already satisfied: idna<4,>=2.5 in /usr/local/lib/python3.10/dist-packages (from requests>=2.23.0->ultralytics) (3.7)\n",
            "Requirement already satisfied: urllib3<3,>=1.21.1 in /usr/local/lib/python3.10/dist-packages (from requests>=2.23.0->ultralytics) (2.0.7)\n",
            "Requirement already satisfied: certifi>=2017.4.17 in /usr/local/lib/python3.10/dist-packages (from requests>=2.23.0->ultralytics) (2024.2.2)\n",
            "Requirement already satisfied: filelock in /usr/local/lib/python3.10/dist-packages (from torch>=1.8.0->ultralytics) (3.13.4)\n",
            "Collecting typing-extensions>=4.8.0 (from torch>=1.8.0->ultralytics)\n",
            "  Using cached typing_extensions-4.11.0-py3-none-any.whl (34 kB)\n",
            "Requirement already satisfied: sympy in /usr/local/lib/python3.10/dist-packages (from torch>=1.8.0->ultralytics) (1.12)\n",
            "Requirement already satisfied: networkx in /usr/local/lib/python3.10/dist-packages (from torch>=1.8.0->ultralytics) (3.3)\n",
            "Requirement already satisfied: jinja2 in /usr/local/lib/python3.10/dist-packages (from torch>=1.8.0->ultralytics) (3.1.3)\n",
            "Requirement already satisfied: fsspec in /usr/local/lib/python3.10/dist-packages (from torch>=1.8.0->ultralytics) (2023.6.0)\n",
            "Requirement already satisfied: nvidia-cuda-nvrtc-cu12==12.1.105 in /usr/local/lib/python3.10/dist-packages (from torch>=1.8.0->ultralytics) (12.1.105)\n",
            "Requirement already satisfied: nvidia-cuda-runtime-cu12==12.1.105 in /usr/local/lib/python3.10/dist-packages (from torch>=1.8.0->ultralytics) (12.1.105)\n",
            "Requirement already satisfied: nvidia-cuda-cupti-cu12==12.1.105 in /usr/local/lib/python3.10/dist-packages (from torch>=1.8.0->ultralytics) (12.1.105)\n",
            "Requirement already satisfied: nvidia-cudnn-cu12==8.9.2.26 in /usr/local/lib/python3.10/dist-packages (from torch>=1.8.0->ultralytics) (8.9.2.26)\n",
            "Requirement already satisfied: nvidia-cublas-cu12==12.1.3.1 in /usr/local/lib/python3.10/dist-packages (from torch>=1.8.0->ultralytics) (12.1.3.1)\n",
            "Requirement already satisfied: nvidia-cufft-cu12==11.0.2.54 in /usr/local/lib/python3.10/dist-packages (from torch>=1.8.0->ultralytics) (11.0.2.54)\n",
            "Requirement already satisfied: nvidia-curand-cu12==10.3.2.106 in /usr/local/lib/python3.10/dist-packages (from torch>=1.8.0->ultralytics) (10.3.2.106)\n",
            "Requirement already satisfied: nvidia-cusolver-cu12==11.4.5.107 in /usr/local/lib/python3.10/dist-packages (from torch>=1.8.0->ultralytics) (11.4.5.107)\n",
            "Requirement already satisfied: nvidia-cusparse-cu12==12.1.0.106 in /usr/local/lib/python3.10/dist-packages (from torch>=1.8.0->ultralytics) (12.1.0.106)\n",
            "Requirement already satisfied: nvidia-nccl-cu12==2.19.3 in /usr/local/lib/python3.10/dist-packages (from torch>=1.8.0->ultralytics) (2.19.3)\n",
            "Requirement already satisfied: nvidia-nvtx-cu12==12.1.105 in /usr/local/lib/python3.10/dist-packages (from torch>=1.8.0->ultralytics) (12.1.105)\n",
            "Requirement already satisfied: triton==2.2.0 in /usr/local/lib/python3.10/dist-packages (from torch>=1.8.0->ultralytics) (2.2.0)\n",
            "Requirement already satisfied: nvidia-nvjitlink-cu12 in /usr/local/lib/python3.10/dist-packages (from nvidia-cusolver-cu12==11.4.5.107->torch>=1.8.0->ultralytics) (12.4.127)\n",
            "Requirement already satisfied: six>=1.5 in /usr/local/lib/python3.10/dist-packages (from python-dateutil>=2.7->matplotlib>=3.3.0->ultralytics) (1.16.0)\n",
            "Requirement already satisfied: MarkupSafe>=2.0 in /usr/local/lib/python3.10/dist-packages (from jinja2->torch>=1.8.0->ultralytics) (2.1.5)\n",
            "Requirement already satisfied: mpmath>=0.19 in /usr/local/lib/python3.10/dist-packages (from sympy->torch>=1.8.0->ultralytics) (1.3.0)\n",
            "Installing collected packages: typing-extensions\n",
            "  Attempting uninstall: typing-extensions\n",
            "    Found existing installation: typing_extensions 4.5.0\n",
            "    Uninstalling typing_extensions-4.5.0:\n",
            "      Successfully uninstalled typing_extensions-4.5.0\n",
            "\u001b[31mERROR: pip's dependency resolver does not currently take into account all the packages that are installed. This behaviour is the source of the following dependency conflicts.\n",
            "tensorflow 2.13.0 requires typing-extensions<4.6.0,>=3.6.6, but you have typing-extensions 4.11.0 which is incompatible.\u001b[0m\u001b[31m\n",
            "\u001b[0mSuccessfully installed typing-extensions-4.11.0\n"
          ]
        }
      ],
      "source": [
        "!pip install ultralytics"
      ]
    },
    {
      "cell_type": "code",
      "execution_count": null,
      "metadata": {
        "id": "FlSToLZYhoMy"
      },
      "outputs": [],
      "source": [
        "from ultralytics import YOLO\n",
        "\n",
        "# Load a model\n",
        "model = YOLO('/content/gdrive/MyDrive/temp/papayadatasetyolov8/runs/detect/train5/weights/best.pt')"
      ]
    },
    {
      "cell_type": "code",
      "execution_count": null,
      "metadata": {
        "colab": {
          "base_uri": "https://localhost:8080/"
        },
        "id": "TwjZenoTi5Y-",
        "outputId": "8bd154da-3920-4034-caf5-3dca5dee3c89"
      },
      "outputs": [
        {
          "output_type": "stream",
          "name": "stdout",
          "text": [
            "\n",
            "image 1/1 /content/gdrive/MyDrive/temp/papaya.jpg: 384x640 4 Pepaya rippens, 4 Pepaya unrippens, 99.7ms\n",
            "Speed: 3.4ms preprocess, 99.7ms inference, 2760.1ms postprocess per image at shape (1, 3, 384, 640)\n",
            "Results saved to \u001b[1mruns/detect/predict2\u001b[0m\n"
          ]
        },
        {
          "output_type": "execute_result",
          "data": {
            "text/plain": [
              "[ultralytics.engine.results.Results object with attributes:\n",
              " \n",
              " boxes: ultralytics.engine.results.Boxes object\n",
              " keypoints: None\n",
              " masks: None\n",
              " names: {0: 'Pepaya rippen', 1: 'Pepaya unrippen'}\n",
              " obb: None\n",
              " orig_img: array([[[ 21, 172, 123],\n",
              "         [ 24, 175, 126],\n",
              "         [ 26, 179, 128],\n",
              "         ...,\n",
              "         [  7,  96,  87],\n",
              "         [  7,  95,  89],\n",
              "         [  7,  95,  89]],\n",
              " \n",
              "        [[ 28, 179, 130],\n",
              "         [ 30, 183, 132],\n",
              "         [ 33, 186, 135],\n",
              "         ...,\n",
              "         [  8,  97,  88],\n",
              "         [  8,  96,  90],\n",
              "         [  8,  96,  90]],\n",
              " \n",
              "        [[ 37, 190, 139],\n",
              "         [ 37, 192, 141],\n",
              "         [ 39, 194, 143],\n",
              "         ...,\n",
              "         [  9,  98,  89],\n",
              "         [  9,  97,  91],\n",
              "         [  9,  97,  91]],\n",
              " \n",
              "        ...,\n",
              " \n",
              "        [[ 32, 111,  67],\n",
              "         [ 34, 113,  69],\n",
              "         [ 36, 115,  71],\n",
              "         ...,\n",
              "         [ 17, 162, 117],\n",
              "         [ 17, 163, 121],\n",
              "         [ 18, 164, 122]],\n",
              " \n",
              "        [[ 39, 118,  74],\n",
              "         [ 40, 119,  75],\n",
              "         [ 40, 119,  75],\n",
              "         ...,\n",
              "         [ 16, 161, 116],\n",
              "         [ 16, 162, 120],\n",
              "         [ 17, 163, 121]],\n",
              " \n",
              "        [[ 47, 126,  82],\n",
              "         [ 46, 125,  81],\n",
              "         [ 42, 121,  77],\n",
              "         ...,\n",
              "         [ 16, 161, 116],\n",
              "         [ 15, 161, 119],\n",
              "         [ 17, 163, 121]]], dtype=uint8)\n",
              " orig_shape: (630, 1120)\n",
              " path: '/content/gdrive/MyDrive/temp/papaya.jpg'\n",
              " probs: None\n",
              " save_dir: 'runs/detect/predict2'\n",
              " speed: {'preprocess': 3.4461021423339844, 'inference': 99.68233108520508, 'postprocess': 2760.0924968719482}]"
            ]
          },
          "metadata": {},
          "execution_count": 4
        }
      ],
      "source": [
        "# Run inference\n",
        "model.predict('/content/gdrive/MyDrive/temp/papaya.jpg', save=True, imgsz=640, conf=0.2)"
      ]
    },
    {
      "cell_type": "code",
      "execution_count": null,
      "metadata": {
        "colab": {
          "base_uri": "https://localhost:8080/",
          "height": 441
        },
        "id": "SzzQI7QnkKD9",
        "outputId": "85ab935d-1f66-4664-fba1-f4087b846cc2"
      },
      "outputs": [
        {
          "output_type": "stream",
          "name": "stdout",
          "text": [
            "Ultralytics YOLOv8.2.2 🚀 Python-3.10.12 torch-2.2.1+cu121 CPU (Intel Xeon 2.00GHz)\n",
            "YOLOv8s summary (fused): 168 layers, 11126358 parameters, 0 gradients, 28.4 GFLOPs\n",
            "\n",
            "\u001b[34m\u001b[1mPyTorch:\u001b[0m starting from '/content/gdrive/MyDrive/temp/papayadatasetyolov8/runs/detect/train5/weights/best.pt' with input shape (1, 3, 640, 640) BCHW and output shape(s) (1, 6, 8400) (21.5 MB)\n",
            "\n",
            "\u001b[34m\u001b[1mTensorFlow SavedModel:\u001b[0m starting export with tensorflow 2.13.0...\n",
            "\n",
            "\u001b[34m\u001b[1mONNX:\u001b[0m starting export with onnx 1.16.0 opset 17...\n",
            "\u001b[34m\u001b[1mONNX:\u001b[0m simplifying with onnxsim 0.4.36...\n",
            "\u001b[34m\u001b[1mONNX:\u001b[0m export success ✅ 3.4s, saved as '/content/gdrive/MyDrive/temp/papayadatasetyolov8/runs/detect/train5/weights/best.onnx' (42.7 MB)\n",
            "\u001b[34m\u001b[1mTensorFlow SavedModel:\u001b[0m starting TFLite export with onnx2tf 1.17.5...\n",
            "\u001b[34m\u001b[1mTensorFlow SavedModel:\u001b[0m export success ✅ 18.2s, saved as '/content/gdrive/MyDrive/temp/papayadatasetyolov8/runs/detect/train5/weights/best_saved_model' (106.9 MB)\n",
            "\n",
            "\u001b[34m\u001b[1mTensorFlow Lite:\u001b[0m starting export with tensorflow 2.13.0...\n",
            "\u001b[34m\u001b[1mTensorFlow Lite:\u001b[0m export success ✅ 0.0s, saved as '/content/gdrive/MyDrive/temp/papayadatasetyolov8/runs/detect/train5/weights/best_saved_model/best_float32.tflite' (42.7 MB)\n",
            "\n",
            "Export complete (20.5s)\n",
            "Results saved to \u001b[1m/content/gdrive/.shortcut-targets-by-id/1qEKzptU3P5qINe_XR1Zh8uCVskF5Y_D_/papayadatasetyolov8/runs/detect/train5/weights\u001b[0m\n",
            "Predict:         yolo predict task=detect model=/content/gdrive/MyDrive/temp/papayadatasetyolov8/runs/detect/train5/weights/best_saved_model/best_float32.tflite imgsz=640  \n",
            "Validate:        yolo val task=detect model=/content/gdrive/MyDrive/temp/papayadatasetyolov8/runs/detect/train5/weights/best_saved_model/best_float32.tflite imgsz=640 data=/content/drive/MyDrive/datsets/papayadatasetyolov8/data.yaml  \n",
            "Visualize:       https://netron.app\n"
          ]
        },
        {
          "output_type": "execute_result",
          "data": {
            "text/plain": [
              "'/content/gdrive/MyDrive/temp/papayadatasetyolov8/runs/detect/train5/weights/best_saved_model/best_float32.tflite'"
            ],
            "application/vnd.google.colaboratory.intrinsic+json": {
              "type": "string"
            }
          },
          "metadata": {},
          "execution_count": 6
        }
      ],
      "source": [
        "\n",
        "#  Export model to tflite\n",
        "from ultralytics import YOLO\n",
        "# Load a model\n",
        "model = YOLO('/content/gdrive/MyDrive/temp/papayadatasetyolov8/runs/detect/train5/weights/best.pt')\n",
        "\n",
        "model.export(format='tflite')"
      ]
    },
    {
      "cell_type": "code",
      "source": [
        "!pip list | grep tensorflow\n"
      ],
      "metadata": {
        "colab": {
          "base_uri": "https://localhost:8080/"
        },
        "id": "z0Pr2lcjnc9s",
        "outputId": "4e55ee8d-5f1d-47bb-822e-d28b56fcb050"
      },
      "execution_count": null,
      "outputs": [
        {
          "output_type": "stream",
          "name": "stdout",
          "text": [
            "tensorflow                       2.13.0\n",
            "tensorflow-datasets              4.9.4\n",
            "tensorflow-estimator             2.13.0\n",
            "tensorflow-gcs-config            2.15.0\n",
            "tensorflow-hub                   0.16.1\n",
            "tensorflow-io-gcs-filesystem     0.36.0\n",
            "tensorflow-metadata              1.14.0\n",
            "tensorflow-probability           0.23.0\n",
            "tensorflow-text                  2.13.0\n"
          ]
        }
      ]
    },
    {
      "cell_type": "code",
      "execution_count": null,
      "metadata": {
        "id": "J4xd2wWnjed1",
        "colab": {
          "base_uri": "https://localhost:8080/"
        },
        "outputId": "b5b258be-6793-4265-f98b-225fe1a0f3e6"
      },
      "outputs": [
        {
          "output_type": "stream",
          "name": "stdout",
          "text": [
            "Loading /content/gdrive/MyDrive/temp/papayadatasetyolov8/runs/detect/train5/weights/best_saved_model/best_float32.tflite for TensorFlow Lite inference...\n",
            "\n",
            "image 1/1 /content/gdrive/MyDrive/temp/papaya.jpg: 640x640 3 Pepaya rippens, 4 Pepaya unrippens, 552.6ms\n",
            "Speed: 4.3ms preprocess, 552.6ms inference, 26.4ms postprocess per image at shape (1, 3, 640, 640)\n",
            "Results saved to \u001b[1mruns/detect/predict3\u001b[0m\n"
          ]
        },
        {
          "output_type": "execute_result",
          "data": {
            "text/plain": [
              "[ultralytics.engine.results.Results object with attributes:\n",
              " \n",
              " boxes: ultralytics.engine.results.Boxes object\n",
              " keypoints: None\n",
              " masks: None\n",
              " names: {0: 'Pepaya rippen', 1: 'Pepaya unrippen'}\n",
              " obb: None\n",
              " orig_img: array([[[ 21, 172, 123],\n",
              "         [ 24, 175, 126],\n",
              "         [ 26, 179, 128],\n",
              "         ...,\n",
              "         [  7,  96,  87],\n",
              "         [  7,  95,  89],\n",
              "         [  7,  95,  89]],\n",
              " \n",
              "        [[ 28, 179, 130],\n",
              "         [ 30, 183, 132],\n",
              "         [ 33, 186, 135],\n",
              "         ...,\n",
              "         [  8,  97,  88],\n",
              "         [  8,  96,  90],\n",
              "         [  8,  96,  90]],\n",
              " \n",
              "        [[ 37, 190, 139],\n",
              "         [ 37, 192, 141],\n",
              "         [ 39, 194, 143],\n",
              "         ...,\n",
              "         [  9,  98,  89],\n",
              "         [  9,  97,  91],\n",
              "         [  9,  97,  91]],\n",
              " \n",
              "        ...,\n",
              " \n",
              "        [[ 32, 111,  67],\n",
              "         [ 34, 113,  69],\n",
              "         [ 36, 115,  71],\n",
              "         ...,\n",
              "         [ 17, 162, 117],\n",
              "         [ 17, 163, 121],\n",
              "         [ 18, 164, 122]],\n",
              " \n",
              "        [[ 39, 118,  74],\n",
              "         [ 40, 119,  75],\n",
              "         [ 40, 119,  75],\n",
              "         ...,\n",
              "         [ 16, 161, 116],\n",
              "         [ 16, 162, 120],\n",
              "         [ 17, 163, 121]],\n",
              " \n",
              "        [[ 47, 126,  82],\n",
              "         [ 46, 125,  81],\n",
              "         [ 42, 121,  77],\n",
              "         ...,\n",
              "         [ 16, 161, 116],\n",
              "         [ 15, 161, 119],\n",
              "         [ 17, 163, 121]]], dtype=uint8)\n",
              " orig_shape: (630, 1120)\n",
              " path: '/content/gdrive/MyDrive/temp/papaya.jpg'\n",
              " probs: None\n",
              " save_dir: 'runs/detect/predict3'\n",
              " speed: {'preprocess': 4.329681396484375, 'inference': 552.6406764984131, 'postprocess': 26.367664337158203}]"
            ]
          },
          "metadata": {},
          "execution_count": 10
        }
      ],
      "source": [
        "# Prediction using custom tflite model\n",
        "\n",
        "# Load a pretrained YOLOv8n model\n",
        "model = YOLO('/content/gdrive/MyDrive/temp/papayadatasetyolov8/runs/detect/train5/weights/best_saved_model/best_float32.tflite')\n",
        "\n",
        "# Run inference\n",
        "model.predict('/content/gdrive/MyDrive/temp/papaya.jpg', save=True, imgsz=640, conf=0.2)"
      ]
    }
  ],
  "metadata": {
    "accelerator": "GPU",
    "colab": {
      "gpuType": "T4",
      "provenance": []
    },
    "kernelspec": {
      "display_name": "Python 3",
      "name": "python3"
    },
    "language_info": {
      "name": "python"
    }
  },
  "nbformat": 4,
  "nbformat_minor": 0
}